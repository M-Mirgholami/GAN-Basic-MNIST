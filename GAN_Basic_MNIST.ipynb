{
  "nbformat": 4,
  "nbformat_minor": 0,
  "metadata": {
    "colab": {
      "name": "GAN-Basic-MNIST.ipynb",
      "provenance": [],
      "authorship_tag": "ABX9TyN+ThS+AtIkpByY5xfRth3l",
      "include_colab_link": true
    },
    "kernelspec": {
      "name": "python3",
      "display_name": "Python 3"
    }
  },
  "cells": [
    {
      "cell_type": "markdown",
      "metadata": {
        "id": "view-in-github",
        "colab_type": "text"
      },
      "source": [
        "<a href=\"https://colab.research.google.com/github/M-Mirgholami/GAN-Basic-MNIST/blob/gh-pages/GAN_Basic_MNIST.ipynb\" target=\"_parent\"><img src=\"https://colab.research.google.com/assets/colab-badge.svg\" alt=\"Open In Colab\"/></a>"
      ]
    },
    {
      "cell_type": "markdown",
      "metadata": {
        "id": "nmsIgV6-vtwY"
      },
      "source": [
        "**Mohammad Mirgholami**"
      ]
    },
    {
      "cell_type": "markdown",
      "metadata": {
        "id": "zaqGk_RCv8pR"
      },
      "source": [
        "**Simple GAN**"
      ]
    },
    {
      "cell_type": "code",
      "metadata": {
        "id": "iVL7ItDlfIo2"
      },
      "source": [
        "import numpy as np\n",
        "import matplotlib.pyplot as plt\n",
        "from keras.datasets import mnist"
      ],
      "execution_count": null,
      "outputs": []
    }
  ]
}